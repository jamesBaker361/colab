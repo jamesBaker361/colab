{
  "nbformat": 4,
  "nbformat_minor": 0,
  "metadata": {
    "colab": {
      "name": "python2gross.ipynb",
      "version": "0.3.2",
      "provenance": [],
      "include_colab_link": true
    },
    "kernelspec": {
      "name": "python2",
      "display_name": "Python 2"
    },
    "accelerator": "GPU"
  },
  "cells": [
    {
      "cell_type": "markdown",
      "metadata": {
        "id": "view-in-github",
        "colab_type": "text"
      },
      "source": [
        "<a href=\"https://colab.research.google.com/github/jamesBaker361/colab/blob/master/python2gross.ipynb\" target=\"_parent\"><img src=\"https://colab.research.google.com/assets/colab-badge.svg\" alt=\"Open In Colab\"/></a>"
      ]
    },
    {
      "cell_type": "code",
      "metadata": {
        "id": "JD_0YWKgGgTx",
        "colab_type": "code",
        "colab": {}
      },
      "source": [
        "import numpy as np\n",
        "import pandas as pd\n",
        "\n",
        "from pandas import Series,DataFrame"
      ],
      "execution_count": 0,
      "outputs": []
    },
    {
      "cell_type": "code",
      "metadata": {
        "id": "vf0uXmHBG8QQ",
        "colab_type": "code",
        "colab": {}
      },
      "source": [
        "series_obj=Series(np.arange(8),index=[\"a\",\"b\",\"c\",\"d\",\"e\",\"f\",\"g\",\"h\"])"
      ],
      "execution_count": 0,
      "outputs": []
    },
    {
      "cell_type": "code",
      "metadata": {
        "id": "KkVs-SiqHrCg",
        "colab_type": "code",
        "colab": {
          "base_uri": "https://localhost:8080/",
          "height": 34
        },
        "outputId": "1aff113b-79c5-4479-890c-33dc5ae71bee"
      },
      "source": [
        "series_obj[\"a\"]"
      ],
      "execution_count": 5,
      "outputs": [
        {
          "output_type": "execute_result",
          "data": {
            "text/plain": [
              "0"
            ]
          },
          "metadata": {
            "tags": []
          },
          "execution_count": 5
        }
      ]
    },
    {
      "cell_type": "code",
      "metadata": {
        "id": "8DpO3kStH46F",
        "colab_type": "code",
        "colab": {
          "base_uri": "https://localhost:8080/",
          "height": 34
        },
        "outputId": "221dcc79-09b0-41b7-dc85-c746d8e6e510"
      },
      "source": [
        "series_obj[3]"
      ],
      "execution_count": 6,
      "outputs": [
        {
          "output_type": "execute_result",
          "data": {
            "text/plain": [
              "3"
            ]
          },
          "metadata": {
            "tags": []
          },
          "execution_count": 6
        }
      ]
    },
    {
      "cell_type": "code",
      "metadata": {
        "id": "VuIFZyFAIIps",
        "colab_type": "code",
        "colab": {}
      },
      "source": [
        "np.random.seed(25)"
      ],
      "execution_count": 0,
      "outputs": []
    },
    {
      "cell_type": "code",
      "metadata": {
        "id": "hWOvbXI4IK7x",
        "colab_type": "code",
        "colab": {}
      },
      "source": [
        "DF_obj=DataFrame(np.random.rand(36).reshape(6,6),index=[\"alpha\",\"epsilon\",\"pi\",\"sigma\",\"delta\",\"tau\"],\n",
        "                columns=[\"james\",\"abby\",\"carlitos\",\"david\",\"bella\",\"goropius\"])"
      ],
      "execution_count": 0,
      "outputs": []
    },
    {
      "cell_type": "code",
      "metadata": {
        "id": "XwUdV_klIwIU",
        "colab_type": "code",
        "colab": {
          "base_uri": "https://localhost:8080/",
          "height": 235
        },
        "outputId": "3e7eb3c5-3547-430f-8604-ee846a519eeb"
      },
      "source": [
        "DF_obj"
      ],
      "execution_count": 16,
      "outputs": [
        {
          "output_type": "execute_result",
          "data": {
            "text/html": [
              "<div>\n",
              "<style scoped>\n",
              "    .dataframe tbody tr th:only-of-type {\n",
              "        vertical-align: middle;\n",
              "    }\n",
              "\n",
              "    .dataframe tbody tr th {\n",
              "        vertical-align: top;\n",
              "    }\n",
              "\n",
              "    .dataframe thead th {\n",
              "        text-align: right;\n",
              "    }\n",
              "</style>\n",
              "<table border=\"1\" class=\"dataframe\">\n",
              "  <thead>\n",
              "    <tr style=\"text-align: right;\">\n",
              "      <th></th>\n",
              "      <th>james</th>\n",
              "      <th>abby</th>\n",
              "      <th>carlitos</th>\n",
              "      <th>david</th>\n",
              "      <th>bella</th>\n",
              "      <th>goropius</th>\n",
              "    </tr>\n",
              "  </thead>\n",
              "  <tbody>\n",
              "    <tr>\n",
              "      <th>alpha</th>\n",
              "      <td>0.245986</td>\n",
              "      <td>0.626783</td>\n",
              "      <td>0.377250</td>\n",
              "      <td>0.063457</td>\n",
              "      <td>0.373199</td>\n",
              "      <td>0.074116</td>\n",
              "    </tr>\n",
              "    <tr>\n",
              "      <th>epsilon</th>\n",
              "      <td>0.044442</td>\n",
              "      <td>0.293012</td>\n",
              "      <td>0.754543</td>\n",
              "      <td>0.953247</td>\n",
              "      <td>0.588749</td>\n",
              "      <td>0.987940</td>\n",
              "    </tr>\n",
              "    <tr>\n",
              "      <th>pi</th>\n",
              "      <td>0.198074</td>\n",
              "      <td>0.042969</td>\n",
              "      <td>0.383704</td>\n",
              "      <td>0.780941</td>\n",
              "      <td>0.763117</td>\n",
              "      <td>0.864242</td>\n",
              "    </tr>\n",
              "    <tr>\n",
              "      <th>sigma</th>\n",
              "      <td>0.537240</td>\n",
              "      <td>0.526677</td>\n",
              "      <td>0.815957</td>\n",
              "      <td>0.129121</td>\n",
              "      <td>0.720280</td>\n",
              "      <td>0.066831</td>\n",
              "    </tr>\n",
              "    <tr>\n",
              "      <th>delta</th>\n",
              "      <td>0.015341</td>\n",
              "      <td>0.546204</td>\n",
              "      <td>0.092189</td>\n",
              "      <td>0.171704</td>\n",
              "      <td>0.333604</td>\n",
              "      <td>0.116719</td>\n",
              "    </tr>\n",
              "    <tr>\n",
              "      <th>tau</th>\n",
              "      <td>0.562587</td>\n",
              "      <td>0.410931</td>\n",
              "      <td>0.285842</td>\n",
              "      <td>0.398147</td>\n",
              "      <td>0.427212</td>\n",
              "      <td>0.885826</td>\n",
              "    </tr>\n",
              "  </tbody>\n",
              "</table>\n",
              "</div>"
            ],
            "text/plain": [
              "            james      abby  carlitos     david     bella  goropius\n",
              "alpha    0.245986  0.626783  0.377250  0.063457  0.373199  0.074116\n",
              "epsilon  0.044442  0.293012  0.754543  0.953247  0.588749  0.987940\n",
              "pi       0.198074  0.042969  0.383704  0.780941  0.763117  0.864242\n",
              "sigma    0.537240  0.526677  0.815957  0.129121  0.720280  0.066831\n",
              "delta    0.015341  0.546204  0.092189  0.171704  0.333604  0.116719\n",
              "tau      0.562587  0.410931  0.285842  0.398147  0.427212  0.885826"
            ]
          },
          "metadata": {
            "tags": []
          },
          "execution_count": 16
        }
      ]
    },
    {
      "cell_type": "code",
      "metadata": {
        "id": "lbhZF4ELJnfb",
        "colab_type": "code",
        "colab": {
          "base_uri": "https://localhost:8080/",
          "height": 136
        },
        "outputId": "ca7ea53c-d7d2-457f-e4e5-5d296b9e103b"
      },
      "source": [
        "DF_obj[\"carlitos\"]"
      ],
      "execution_count": 17,
      "outputs": [
        {
          "output_type": "execute_result",
          "data": {
            "text/plain": [
              "alpha      0.377250\n",
              "epsilon    0.754543\n",
              "pi         0.383704\n",
              "sigma      0.815957\n",
              "delta      0.092189\n",
              "tau        0.285842\n",
              "Name: carlitos, dtype: float64"
            ]
          },
          "metadata": {
            "tags": []
          },
          "execution_count": 17
        }
      ]
    },
    {
      "cell_type": "code",
      "metadata": {
        "id": "gj-THYKgJx69",
        "colab_type": "code",
        "colab": {
          "base_uri": "https://localhost:8080/",
          "height": 247
        },
        "outputId": "724977c3-e2a9-401a-c971-9523e20377e2"
      },
      "source": [
        "DF_obj.ix[[\"pi\",\"sigma\"]]"
      ],
      "execution_count": 18,
      "outputs": [
        {
          "output_type": "stream",
          "text": [
            "/usr/local/lib/python2.7/dist-packages/ipykernel_launcher.py:1: DeprecationWarning: \n",
            ".ix is deprecated. Please use\n",
            ".loc for label based indexing or\n",
            ".iloc for positional indexing\n",
            "\n",
            "See the documentation here:\n",
            "http://pandas.pydata.org/pandas-docs/stable/indexing.html#ix-indexer-is-deprecated\n",
            "  \"\"\"Entry point for launching an IPython kernel.\n"
          ],
          "name": "stderr"
        },
        {
          "output_type": "execute_result",
          "data": {
            "text/html": [
              "<div>\n",
              "<style scoped>\n",
              "    .dataframe tbody tr th:only-of-type {\n",
              "        vertical-align: middle;\n",
              "    }\n",
              "\n",
              "    .dataframe tbody tr th {\n",
              "        vertical-align: top;\n",
              "    }\n",
              "\n",
              "    .dataframe thead th {\n",
              "        text-align: right;\n",
              "    }\n",
              "</style>\n",
              "<table border=\"1\" class=\"dataframe\">\n",
              "  <thead>\n",
              "    <tr style=\"text-align: right;\">\n",
              "      <th></th>\n",
              "      <th>james</th>\n",
              "      <th>abby</th>\n",
              "      <th>carlitos</th>\n",
              "      <th>david</th>\n",
              "      <th>bella</th>\n",
              "      <th>goropius</th>\n",
              "    </tr>\n",
              "  </thead>\n",
              "  <tbody>\n",
              "    <tr>\n",
              "      <th>pi</th>\n",
              "      <td>0.198074</td>\n",
              "      <td>0.042969</td>\n",
              "      <td>0.383704</td>\n",
              "      <td>0.780941</td>\n",
              "      <td>0.763117</td>\n",
              "      <td>0.864242</td>\n",
              "    </tr>\n",
              "    <tr>\n",
              "      <th>sigma</th>\n",
              "      <td>0.537240</td>\n",
              "      <td>0.526677</td>\n",
              "      <td>0.815957</td>\n",
              "      <td>0.129121</td>\n",
              "      <td>0.720280</td>\n",
              "      <td>0.066831</td>\n",
              "    </tr>\n",
              "  </tbody>\n",
              "</table>\n",
              "</div>"
            ],
            "text/plain": [
              "          james      abby  carlitos     david     bella  goropius\n",
              "pi     0.198074  0.042969  0.383704  0.780941  0.763117  0.864242\n",
              "sigma  0.537240  0.526677  0.815957  0.129121  0.720280  0.066831"
            ]
          },
          "metadata": {
            "tags": []
          },
          "execution_count": 18
        }
      ]
    },
    {
      "cell_type": "code",
      "metadata": {
        "id": "cIh-ma7NJ4yX",
        "colab_type": "code",
        "colab": {
          "base_uri": "https://localhost:8080/",
          "height": 111
        },
        "outputId": "9cb8b4c6-a4f3-461c-fbfe-9e1e489645b8"
      },
      "source": [
        "DF_obj.loc[[\"pi\",\"sigma\"],[\"carlitos\"]]"
      ],
      "execution_count": 21,
      "outputs": [
        {
          "output_type": "execute_result",
          "data": {
            "text/html": [
              "<div>\n",
              "<style scoped>\n",
              "    .dataframe tbody tr th:only-of-type {\n",
              "        vertical-align: middle;\n",
              "    }\n",
              "\n",
              "    .dataframe tbody tr th {\n",
              "        vertical-align: top;\n",
              "    }\n",
              "\n",
              "    .dataframe thead th {\n",
              "        text-align: right;\n",
              "    }\n",
              "</style>\n",
              "<table border=\"1\" class=\"dataframe\">\n",
              "  <thead>\n",
              "    <tr style=\"text-align: right;\">\n",
              "      <th></th>\n",
              "      <th>carlitos</th>\n",
              "    </tr>\n",
              "  </thead>\n",
              "  <tbody>\n",
              "    <tr>\n",
              "      <th>pi</th>\n",
              "      <td>0.383704</td>\n",
              "    </tr>\n",
              "    <tr>\n",
              "      <th>sigma</th>\n",
              "      <td>0.815957</td>\n",
              "    </tr>\n",
              "  </tbody>\n",
              "</table>\n",
              "</div>"
            ],
            "text/plain": [
              "       carlitos\n",
              "pi     0.383704\n",
              "sigma  0.815957"
            ]
          },
          "metadata": {
            "tags": []
          },
          "execution_count": 21
        }
      ]
    },
    {
      "cell_type": "code",
      "metadata": {
        "id": "BEdMDgbbKVHE",
        "colab_type": "code",
        "colab": {
          "base_uri": "https://localhost:8080/",
          "height": 119
        },
        "outputId": "e8e1dd4d-a953-4999-d236-4bd2b95f417f"
      },
      "source": [
        "series_obj[\"b\":\"f\"]"
      ],
      "execution_count": 22,
      "outputs": [
        {
          "output_type": "execute_result",
          "data": {
            "text/plain": [
              "b    1\n",
              "c    2\n",
              "d    3\n",
              "e    4\n",
              "f    5\n",
              "dtype: int64"
            ]
          },
          "metadata": {
            "tags": []
          },
          "execution_count": 22
        }
      ]
    },
    {
      "cell_type": "code",
      "metadata": {
        "id": "Tba_8PhbKgQk",
        "colab_type": "code",
        "colab": {
          "base_uri": "https://localhost:8080/",
          "height": 235
        },
        "outputId": "94e08912-7c6f-4f82-879a-a0845ea461ff"
      },
      "source": [
        "DF_obj <.35"
      ],
      "execution_count": 24,
      "outputs": [
        {
          "output_type": "execute_result",
          "data": {
            "text/html": [
              "<div>\n",
              "<style scoped>\n",
              "    .dataframe tbody tr th:only-of-type {\n",
              "        vertical-align: middle;\n",
              "    }\n",
              "\n",
              "    .dataframe tbody tr th {\n",
              "        vertical-align: top;\n",
              "    }\n",
              "\n",
              "    .dataframe thead th {\n",
              "        text-align: right;\n",
              "    }\n",
              "</style>\n",
              "<table border=\"1\" class=\"dataframe\">\n",
              "  <thead>\n",
              "    <tr style=\"text-align: right;\">\n",
              "      <th></th>\n",
              "      <th>james</th>\n",
              "      <th>abby</th>\n",
              "      <th>carlitos</th>\n",
              "      <th>david</th>\n",
              "      <th>bella</th>\n",
              "      <th>goropius</th>\n",
              "    </tr>\n",
              "  </thead>\n",
              "  <tbody>\n",
              "    <tr>\n",
              "      <th>alpha</th>\n",
              "      <td>True</td>\n",
              "      <td>False</td>\n",
              "      <td>False</td>\n",
              "      <td>True</td>\n",
              "      <td>False</td>\n",
              "      <td>True</td>\n",
              "    </tr>\n",
              "    <tr>\n",
              "      <th>epsilon</th>\n",
              "      <td>True</td>\n",
              "      <td>True</td>\n",
              "      <td>False</td>\n",
              "      <td>False</td>\n",
              "      <td>False</td>\n",
              "      <td>False</td>\n",
              "    </tr>\n",
              "    <tr>\n",
              "      <th>pi</th>\n",
              "      <td>True</td>\n",
              "      <td>True</td>\n",
              "      <td>False</td>\n",
              "      <td>False</td>\n",
              "      <td>False</td>\n",
              "      <td>False</td>\n",
              "    </tr>\n",
              "    <tr>\n",
              "      <th>sigma</th>\n",
              "      <td>False</td>\n",
              "      <td>False</td>\n",
              "      <td>False</td>\n",
              "      <td>True</td>\n",
              "      <td>False</td>\n",
              "      <td>True</td>\n",
              "    </tr>\n",
              "    <tr>\n",
              "      <th>delta</th>\n",
              "      <td>True</td>\n",
              "      <td>False</td>\n",
              "      <td>True</td>\n",
              "      <td>True</td>\n",
              "      <td>True</td>\n",
              "      <td>True</td>\n",
              "    </tr>\n",
              "    <tr>\n",
              "      <th>tau</th>\n",
              "      <td>False</td>\n",
              "      <td>False</td>\n",
              "      <td>True</td>\n",
              "      <td>False</td>\n",
              "      <td>False</td>\n",
              "      <td>False</td>\n",
              "    </tr>\n",
              "  </tbody>\n",
              "</table>\n",
              "</div>"
            ],
            "text/plain": [
              "         james   abby  carlitos  david  bella  goropius\n",
              "alpha     True  False     False   True  False      True\n",
              "epsilon   True   True     False  False  False     False\n",
              "pi        True   True     False  False  False     False\n",
              "sigma    False  False     False   True  False      True\n",
              "delta     True  False      True   True   True      True\n",
              "tau      False  False      True  False  False     False"
            ]
          },
          "metadata": {
            "tags": []
          },
          "execution_count": 24
        }
      ]
    },
    {
      "cell_type": "code",
      "metadata": {
        "id": "8Rjh3KiMKv8K",
        "colab_type": "code",
        "colab": {
          "base_uri": "https://localhost:8080/",
          "height": 85
        },
        "outputId": "1fb5d8a7-3529-431a-91dc-706e54b161bb"
      },
      "source": [
        "series_obj[series_obj<3]"
      ],
      "execution_count": 25,
      "outputs": [
        {
          "output_type": "execute_result",
          "data": {
            "text/plain": [
              "a    0\n",
              "b    1\n",
              "c    2\n",
              "dtype: int64"
            ]
          },
          "metadata": {
            "tags": []
          },
          "execution_count": 25
        }
      ]
    },
    {
      "cell_type": "code",
      "metadata": {
        "id": "1FFN8q6aKy8_",
        "colab_type": "code",
        "colab": {
          "base_uri": "https://localhost:8080/",
          "height": 235
        },
        "outputId": "f8edfd55-27f1-41ec-af3b-9bce122c68bc"
      },
      "source": [
        "DF_obj[DF_obj.loc[[\"pi\"]]<.5]"
      ],
      "execution_count": 30,
      "outputs": [
        {
          "output_type": "execute_result",
          "data": {
            "text/html": [
              "<div>\n",
              "<style scoped>\n",
              "    .dataframe tbody tr th:only-of-type {\n",
              "        vertical-align: middle;\n",
              "    }\n",
              "\n",
              "    .dataframe tbody tr th {\n",
              "        vertical-align: top;\n",
              "    }\n",
              "\n",
              "    .dataframe thead th {\n",
              "        text-align: right;\n",
              "    }\n",
              "</style>\n",
              "<table border=\"1\" class=\"dataframe\">\n",
              "  <thead>\n",
              "    <tr style=\"text-align: right;\">\n",
              "      <th></th>\n",
              "      <th>james</th>\n",
              "      <th>abby</th>\n",
              "      <th>carlitos</th>\n",
              "      <th>david</th>\n",
              "      <th>bella</th>\n",
              "      <th>goropius</th>\n",
              "    </tr>\n",
              "  </thead>\n",
              "  <tbody>\n",
              "    <tr>\n",
              "      <th>alpha</th>\n",
              "      <td>NaN</td>\n",
              "      <td>NaN</td>\n",
              "      <td>NaN</td>\n",
              "      <td>NaN</td>\n",
              "      <td>NaN</td>\n",
              "      <td>NaN</td>\n",
              "    </tr>\n",
              "    <tr>\n",
              "      <th>epsilon</th>\n",
              "      <td>NaN</td>\n",
              "      <td>NaN</td>\n",
              "      <td>NaN</td>\n",
              "      <td>NaN</td>\n",
              "      <td>NaN</td>\n",
              "      <td>NaN</td>\n",
              "    </tr>\n",
              "    <tr>\n",
              "      <th>pi</th>\n",
              "      <td>0.198074</td>\n",
              "      <td>0.042969</td>\n",
              "      <td>0.383704</td>\n",
              "      <td>NaN</td>\n",
              "      <td>NaN</td>\n",
              "      <td>NaN</td>\n",
              "    </tr>\n",
              "    <tr>\n",
              "      <th>sigma</th>\n",
              "      <td>NaN</td>\n",
              "      <td>NaN</td>\n",
              "      <td>NaN</td>\n",
              "      <td>NaN</td>\n",
              "      <td>NaN</td>\n",
              "      <td>NaN</td>\n",
              "    </tr>\n",
              "    <tr>\n",
              "      <th>delta</th>\n",
              "      <td>NaN</td>\n",
              "      <td>NaN</td>\n",
              "      <td>NaN</td>\n",
              "      <td>NaN</td>\n",
              "      <td>NaN</td>\n",
              "      <td>NaN</td>\n",
              "    </tr>\n",
              "    <tr>\n",
              "      <th>tau</th>\n",
              "      <td>NaN</td>\n",
              "      <td>NaN</td>\n",
              "      <td>NaN</td>\n",
              "      <td>NaN</td>\n",
              "      <td>NaN</td>\n",
              "      <td>NaN</td>\n",
              "    </tr>\n",
              "  </tbody>\n",
              "</table>\n",
              "</div>"
            ],
            "text/plain": [
              "            james      abby  carlitos  david  bella  goropius\n",
              "alpha         NaN       NaN       NaN    NaN    NaN       NaN\n",
              "epsilon       NaN       NaN       NaN    NaN    NaN       NaN\n",
              "pi       0.198074  0.042969  0.383704    NaN    NaN       NaN\n",
              "sigma         NaN       NaN       NaN    NaN    NaN       NaN\n",
              "delta         NaN       NaN       NaN    NaN    NaN       NaN\n",
              "tau           NaN       NaN       NaN    NaN    NaN       NaN"
            ]
          },
          "metadata": {
            "tags": []
          },
          "execution_count": 30
        }
      ]
    },
    {
      "cell_type": "code",
      "metadata": {
        "id": "M_tuV6trLX2S",
        "colab_type": "code",
        "colab": {}
      },
      "source": [
        "series_obj[\"a\",\"b\",\"c\"]=42"
      ],
      "execution_count": 0,
      "outputs": []
    },
    {
      "cell_type": "code",
      "metadata": {
        "id": "M4eCpwKnLeAD",
        "colab_type": "code",
        "colab": {
          "base_uri": "https://localhost:8080/",
          "height": 170
        },
        "outputId": "3598634d-9883-4e00-f381-86da7670985c"
      },
      "source": [
        "series_obj"
      ],
      "execution_count": 32,
      "outputs": [
        {
          "output_type": "execute_result",
          "data": {
            "text/plain": [
              "a    42\n",
              "b    42\n",
              "c    42\n",
              "d     3\n",
              "e     4\n",
              "f     5\n",
              "g     6\n",
              "h     7\n",
              "dtype: int64"
            ]
          },
          "metadata": {
            "tags": []
          },
          "execution_count": 32
        }
      ]
    },
    {
      "cell_type": "markdown",
      "metadata": {
        "id": "kGmsciypMBXd",
        "colab_type": "text"
      },
      "source": [
        "Video 2"
      ]
    },
    {
      "cell_type": "code",
      "metadata": {
        "id": "kpoOJp1rMCdD",
        "colab_type": "code",
        "colab": {}
      },
      "source": [
        "missing=np.nan"
      ],
      "execution_count": 0,
      "outputs": []
    },
    {
      "cell_type": "code",
      "metadata": {
        "id": "HPWmmVb5ROcY",
        "colab_type": "code",
        "colab": {}
      },
      "source": [
        "series_obj=Series([\"duck\",\"duck\",missing,\"goose\"])"
      ],
      "execution_count": 0,
      "outputs": []
    },
    {
      "cell_type": "code",
      "metadata": {
        "id": "0LpBdj-xRUFM",
        "colab_type": "code",
        "colab": {
          "base_uri": "https://localhost:8080/",
          "height": 102
        },
        "outputId": "10edc014-1a08-4f74-e310-c996aa7b18e2"
      },
      "source": [
        "series_obj"
      ],
      "execution_count": 36,
      "outputs": [
        {
          "output_type": "execute_result",
          "data": {
            "text/plain": [
              "0     duck\n",
              "1     duck\n",
              "2      NaN\n",
              "3    goose\n",
              "dtype: object"
            ]
          },
          "metadata": {
            "tags": []
          },
          "execution_count": 36
        }
      ]
    },
    {
      "cell_type": "code",
      "metadata": {
        "id": "cce1r47-Rdkh",
        "colab_type": "code",
        "colab": {
          "base_uri": "https://localhost:8080/",
          "height": 102
        },
        "outputId": "afdc9270-7988-426f-e7e4-8ed43a4ab470"
      },
      "source": [
        "series_obj.isnull()"
      ],
      "execution_count": 37,
      "outputs": [
        {
          "output_type": "execute_result",
          "data": {
            "text/plain": [
              "0    False\n",
              "1    False\n",
              "2     True\n",
              "3    False\n",
              "dtype: bool"
            ]
          },
          "metadata": {
            "tags": []
          },
          "execution_count": 37
        }
      ]
    },
    {
      "cell_type": "code",
      "metadata": {
        "id": "unCIWeH3R5C0",
        "colab_type": "code",
        "colab": {
          "base_uri": "https://localhost:8080/",
          "height": 235
        },
        "outputId": "6cd99899-e5dc-45f8-85a4-9fe74330f261"
      },
      "source": [
        "DF_obj"
      ],
      "execution_count": 38,
      "outputs": [
        {
          "output_type": "execute_result",
          "data": {
            "text/html": [
              "<div>\n",
              "<style scoped>\n",
              "    .dataframe tbody tr th:only-of-type {\n",
              "        vertical-align: middle;\n",
              "    }\n",
              "\n",
              "    .dataframe tbody tr th {\n",
              "        vertical-align: top;\n",
              "    }\n",
              "\n",
              "    .dataframe thead th {\n",
              "        text-align: right;\n",
              "    }\n",
              "</style>\n",
              "<table border=\"1\" class=\"dataframe\">\n",
              "  <thead>\n",
              "    <tr style=\"text-align: right;\">\n",
              "      <th></th>\n",
              "      <th>james</th>\n",
              "      <th>abby</th>\n",
              "      <th>carlitos</th>\n",
              "      <th>david</th>\n",
              "      <th>bella</th>\n",
              "      <th>goropius</th>\n",
              "    </tr>\n",
              "  </thead>\n",
              "  <tbody>\n",
              "    <tr>\n",
              "      <th>alpha</th>\n",
              "      <td>0.245986</td>\n",
              "      <td>0.626783</td>\n",
              "      <td>0.377250</td>\n",
              "      <td>0.063457</td>\n",
              "      <td>0.373199</td>\n",
              "      <td>0.074116</td>\n",
              "    </tr>\n",
              "    <tr>\n",
              "      <th>epsilon</th>\n",
              "      <td>0.044442</td>\n",
              "      <td>0.293012</td>\n",
              "      <td>0.754543</td>\n",
              "      <td>0.953247</td>\n",
              "      <td>0.588749</td>\n",
              "      <td>0.987940</td>\n",
              "    </tr>\n",
              "    <tr>\n",
              "      <th>pi</th>\n",
              "      <td>0.198074</td>\n",
              "      <td>0.042969</td>\n",
              "      <td>0.383704</td>\n",
              "      <td>0.780941</td>\n",
              "      <td>0.763117</td>\n",
              "      <td>0.864242</td>\n",
              "    </tr>\n",
              "    <tr>\n",
              "      <th>sigma</th>\n",
              "      <td>0.537240</td>\n",
              "      <td>0.526677</td>\n",
              "      <td>0.815957</td>\n",
              "      <td>0.129121</td>\n",
              "      <td>0.720280</td>\n",
              "      <td>0.066831</td>\n",
              "    </tr>\n",
              "    <tr>\n",
              "      <th>delta</th>\n",
              "      <td>0.015341</td>\n",
              "      <td>0.546204</td>\n",
              "      <td>0.092189</td>\n",
              "      <td>0.171704</td>\n",
              "      <td>0.333604</td>\n",
              "      <td>0.116719</td>\n",
              "    </tr>\n",
              "    <tr>\n",
              "      <th>tau</th>\n",
              "      <td>0.562587</td>\n",
              "      <td>0.410931</td>\n",
              "      <td>0.285842</td>\n",
              "      <td>0.398147</td>\n",
              "      <td>0.427212</td>\n",
              "      <td>0.885826</td>\n",
              "    </tr>\n",
              "  </tbody>\n",
              "</table>\n",
              "</div>"
            ],
            "text/plain": [
              "            james      abby  carlitos     david     bella  goropius\n",
              "alpha    0.245986  0.626783  0.377250  0.063457  0.373199  0.074116\n",
              "epsilon  0.044442  0.293012  0.754543  0.953247  0.588749  0.987940\n",
              "pi       0.198074  0.042969  0.383704  0.780941  0.763117  0.864242\n",
              "sigma    0.537240  0.526677  0.815957  0.129121  0.720280  0.066831\n",
              "delta    0.015341  0.546204  0.092189  0.171704  0.333604  0.116719\n",
              "tau      0.562587  0.410931  0.285842  0.398147  0.427212  0.885826"
            ]
          },
          "metadata": {
            "tags": []
          },
          "execution_count": 38
        }
      ]
    },
    {
      "cell_type": "code",
      "metadata": {
        "id": "l60780vSR6ZF",
        "colab_type": "code",
        "colab": {
          "base_uri": "https://localhost:8080/",
          "height": 289
        },
        "outputId": "92cb1e98-0238-46f1-921f-19d529ee8e0f"
      },
      "source": [
        "DF_obj.loc[\"epsilon\":\"sigma\"][[\"abby\",\"david\"]]=missing"
      ],
      "execution_count": 77,
      "outputs": [
        {
          "output_type": "stream",
          "text": [
            "/usr/local/lib/python2.7/dist-packages/ipykernel_launcher.py:1: SettingWithCopyWarning: \n",
            "A value is trying to be set on a copy of a slice from a DataFrame.\n",
            "Try using .loc[row_indexer,col_indexer] = value instead\n",
            "\n",
            "See the caveats in the documentation: http://pandas.pydata.org/pandas-docs/stable/indexing.html#indexing-view-versus-copy\n",
            "  \"\"\"Entry point for launching an IPython kernel.\n",
            "/usr/local/lib/python2.7/dist-packages/pandas/core/frame.py:3395: SettingWithCopyWarning: \n",
            "A value is trying to be set on a copy of a slice from a DataFrame\n",
            "\n",
            "See the caveats in the documentation: http://pandas.pydata.org/pandas-docs/stable/indexing.html#indexing-view-versus-copy\n",
            "  self.loc._setitem_with_indexer((slice(None), indexer), value)\n",
            "/usr/local/lib/python2.7/dist-packages/pandas/core/frame.py:3367: SettingWithCopyWarning: \n",
            "A value is trying to be set on a copy of a slice from a DataFrame\n",
            "\n",
            "See the caveats in the documentation: http://pandas.pydata.org/pandas-docs/stable/indexing.html#indexing-view-versus-copy\n",
            "  self._setitem_array(key, value)\n"
          ],
          "name": "stderr"
        }
      ]
    },
    {
      "cell_type": "code",
      "metadata": {
        "id": "gPZiZc_fUsNT",
        "colab_type": "code",
        "colab": {
          "base_uri": "https://localhost:8080/",
          "height": 119
        },
        "outputId": "9fe76521-13af-4b2d-a3d0-9433f470d539"
      },
      "source": [
        "DF_obj.iloc[1:3][1,2,4]=missing"
      ],
      "execution_count": 79,
      "outputs": [
        {
          "output_type": "stream",
          "text": [
            "/usr/local/lib/python2.7/dist-packages/ipykernel_launcher.py:1: SettingWithCopyWarning: \n",
            "A value is trying to be set on a copy of a slice from a DataFrame.\n",
            "Try using .loc[row_indexer,col_indexer] = value instead\n",
            "\n",
            "See the caveats in the documentation: http://pandas.pydata.org/pandas-docs/stable/indexing.html#indexing-view-versus-copy\n",
            "  \"\"\"Entry point for launching an IPython kernel.\n"
          ],
          "name": "stderr"
        }
      ]
    },
    {
      "cell_type": "code",
      "metadata": {
        "id": "mHYUxfXjU7M1",
        "colab_type": "code",
        "colab": {}
      },
      "source": [
        "DF_obj.iloc[2:4,3:5]=missing"
      ],
      "execution_count": 0,
      "outputs": []
    },
    {
      "cell_type": "code",
      "metadata": {
        "id": "78dUzSvLV1Yz",
        "colab_type": "code",
        "colab": {
          "base_uri": "https://localhost:8080/",
          "height": 235
        },
        "outputId": "21bdd17d-3a44-4ab4-efd8-79ca225a5312"
      },
      "source": [
        "DF_obj"
      ],
      "execution_count": 100,
      "outputs": [
        {
          "output_type": "execute_result",
          "data": {
            "text/html": [
              "<div>\n",
              "<style scoped>\n",
              "    .dataframe tbody tr th:only-of-type {\n",
              "        vertical-align: middle;\n",
              "    }\n",
              "\n",
              "    .dataframe tbody tr th {\n",
              "        vertical-align: top;\n",
              "    }\n",
              "\n",
              "    .dataframe thead th {\n",
              "        text-align: right;\n",
              "    }\n",
              "</style>\n",
              "<table border=\"1\" class=\"dataframe\">\n",
              "  <thead>\n",
              "    <tr style=\"text-align: right;\">\n",
              "      <th></th>\n",
              "      <th>james</th>\n",
              "      <th>abby</th>\n",
              "      <th>carlitos</th>\n",
              "      <th>david</th>\n",
              "      <th>bella</th>\n",
              "      <th>goropius</th>\n",
              "    </tr>\n",
              "  </thead>\n",
              "  <tbody>\n",
              "    <tr>\n",
              "      <th>alpha</th>\n",
              "      <td>0.245986</td>\n",
              "      <td>0.626783</td>\n",
              "      <td>0.377250</td>\n",
              "      <td>0.063457</td>\n",
              "      <td>0.373199</td>\n",
              "      <td>0.074116</td>\n",
              "    </tr>\n",
              "    <tr>\n",
              "      <th>epsilon</th>\n",
              "      <td>0.044442</td>\n",
              "      <td>NaN</td>\n",
              "      <td>0.754543</td>\n",
              "      <td>NaN</td>\n",
              "      <td>NaN</td>\n",
              "      <td>0.987940</td>\n",
              "    </tr>\n",
              "    <tr>\n",
              "      <th>pi</th>\n",
              "      <td>0.198074</td>\n",
              "      <td>NaN</td>\n",
              "      <td>0.383704</td>\n",
              "      <td>NaN</td>\n",
              "      <td>NaN</td>\n",
              "      <td>0.864242</td>\n",
              "    </tr>\n",
              "    <tr>\n",
              "      <th>sigma</th>\n",
              "      <td>0.537240</td>\n",
              "      <td>NaN</td>\n",
              "      <td>0.815957</td>\n",
              "      <td>NaN</td>\n",
              "      <td>NaN</td>\n",
              "      <td>0.066831</td>\n",
              "    </tr>\n",
              "    <tr>\n",
              "      <th>delta</th>\n",
              "      <td>0.015341</td>\n",
              "      <td>0.546204</td>\n",
              "      <td>0.092189</td>\n",
              "      <td>0.171704</td>\n",
              "      <td>0.333604</td>\n",
              "      <td>0.116719</td>\n",
              "    </tr>\n",
              "    <tr>\n",
              "      <th>tau</th>\n",
              "      <td>0.562587</td>\n",
              "      <td>0.410931</td>\n",
              "      <td>0.285842</td>\n",
              "      <td>0.398147</td>\n",
              "      <td>0.427212</td>\n",
              "      <td>0.885826</td>\n",
              "    </tr>\n",
              "  </tbody>\n",
              "</table>\n",
              "</div>"
            ],
            "text/plain": [
              "            james      abby  carlitos     david     bella  goropius\n",
              "alpha    0.245986  0.626783  0.377250  0.063457  0.373199  0.074116\n",
              "epsilon  0.044442       NaN  0.754543       NaN       NaN  0.987940\n",
              "pi       0.198074       NaN  0.383704       NaN       NaN  0.864242\n",
              "sigma    0.537240       NaN  0.815957       NaN       NaN  0.066831\n",
              "delta    0.015341  0.546204  0.092189  0.171704  0.333604  0.116719\n",
              "tau      0.562587  0.410931  0.285842  0.398147  0.427212  0.885826"
            ]
          },
          "metadata": {
            "tags": []
          },
          "execution_count": 100
        }
      ]
    },
    {
      "cell_type": "code",
      "metadata": {
        "id": "uB3F-8TBTrZo",
        "colab_type": "code",
        "colab": {}
      },
      "source": [
        "filled=DF_obj.fillna(0)"
      ],
      "execution_count": 0,
      "outputs": []
    },
    {
      "cell_type": "code",
      "metadata": {
        "id": "NythTfkpWcY4",
        "colab_type": "code",
        "colab": {
          "base_uri": "https://localhost:8080/",
          "height": 235
        },
        "outputId": "7e31410b-744e-4a8e-da25-792283526921"
      },
      "source": [
        "filled"
      ],
      "execution_count": 102,
      "outputs": [
        {
          "output_type": "execute_result",
          "data": {
            "text/html": [
              "<div>\n",
              "<style scoped>\n",
              "    .dataframe tbody tr th:only-of-type {\n",
              "        vertical-align: middle;\n",
              "    }\n",
              "\n",
              "    .dataframe tbody tr th {\n",
              "        vertical-align: top;\n",
              "    }\n",
              "\n",
              "    .dataframe thead th {\n",
              "        text-align: right;\n",
              "    }\n",
              "</style>\n",
              "<table border=\"1\" class=\"dataframe\">\n",
              "  <thead>\n",
              "    <tr style=\"text-align: right;\">\n",
              "      <th></th>\n",
              "      <th>james</th>\n",
              "      <th>abby</th>\n",
              "      <th>carlitos</th>\n",
              "      <th>david</th>\n",
              "      <th>bella</th>\n",
              "      <th>goropius</th>\n",
              "    </tr>\n",
              "  </thead>\n",
              "  <tbody>\n",
              "    <tr>\n",
              "      <th>alpha</th>\n",
              "      <td>0.245986</td>\n",
              "      <td>0.626783</td>\n",
              "      <td>0.377250</td>\n",
              "      <td>0.063457</td>\n",
              "      <td>0.373199</td>\n",
              "      <td>0.074116</td>\n",
              "    </tr>\n",
              "    <tr>\n",
              "      <th>epsilon</th>\n",
              "      <td>0.044442</td>\n",
              "      <td>0.000000</td>\n",
              "      <td>0.754543</td>\n",
              "      <td>0.000000</td>\n",
              "      <td>0.000000</td>\n",
              "      <td>0.987940</td>\n",
              "    </tr>\n",
              "    <tr>\n",
              "      <th>pi</th>\n",
              "      <td>0.198074</td>\n",
              "      <td>0.000000</td>\n",
              "      <td>0.383704</td>\n",
              "      <td>0.000000</td>\n",
              "      <td>0.000000</td>\n",
              "      <td>0.864242</td>\n",
              "    </tr>\n",
              "    <tr>\n",
              "      <th>sigma</th>\n",
              "      <td>0.537240</td>\n",
              "      <td>0.000000</td>\n",
              "      <td>0.815957</td>\n",
              "      <td>0.000000</td>\n",
              "      <td>0.000000</td>\n",
              "      <td>0.066831</td>\n",
              "    </tr>\n",
              "    <tr>\n",
              "      <th>delta</th>\n",
              "      <td>0.015341</td>\n",
              "      <td>0.546204</td>\n",
              "      <td>0.092189</td>\n",
              "      <td>0.171704</td>\n",
              "      <td>0.333604</td>\n",
              "      <td>0.116719</td>\n",
              "    </tr>\n",
              "    <tr>\n",
              "      <th>tau</th>\n",
              "      <td>0.562587</td>\n",
              "      <td>0.410931</td>\n",
              "      <td>0.285842</td>\n",
              "      <td>0.398147</td>\n",
              "      <td>0.427212</td>\n",
              "      <td>0.885826</td>\n",
              "    </tr>\n",
              "  </tbody>\n",
              "</table>\n",
              "</div>"
            ],
            "text/plain": [
              "            james      abby  carlitos     david     bella  goropius\n",
              "alpha    0.245986  0.626783  0.377250  0.063457  0.373199  0.074116\n",
              "epsilon  0.044442  0.000000  0.754543  0.000000  0.000000  0.987940\n",
              "pi       0.198074  0.000000  0.383704  0.000000  0.000000  0.864242\n",
              "sigma    0.537240  0.000000  0.815957  0.000000  0.000000  0.066831\n",
              "delta    0.015341  0.546204  0.092189  0.171704  0.333604  0.116719\n",
              "tau      0.562587  0.410931  0.285842  0.398147  0.427212  0.885826"
            ]
          },
          "metadata": {
            "tags": []
          },
          "execution_count": 102
        }
      ]
    },
    {
      "cell_type": "code",
      "metadata": {
        "id": "jEIHu566XkLN",
        "colab_type": "code",
        "colab": {
          "base_uri": "https://localhost:8080/",
          "height": 235
        },
        "outputId": "ac590a6b-7ce7-4fe4-a5c3-b8234c229940"
      },
      "source": [
        "filled2=DF_obj.fillna({1:2,\"abby\":20,2:3})\n",
        "filled2"
      ],
      "execution_count": 116,
      "outputs": [
        {
          "output_type": "execute_result",
          "data": {
            "text/html": [
              "<div>\n",
              "<style scoped>\n",
              "    .dataframe tbody tr th:only-of-type {\n",
              "        vertical-align: middle;\n",
              "    }\n",
              "\n",
              "    .dataframe tbody tr th {\n",
              "        vertical-align: top;\n",
              "    }\n",
              "\n",
              "    .dataframe thead th {\n",
              "        text-align: right;\n",
              "    }\n",
              "</style>\n",
              "<table border=\"1\" class=\"dataframe\">\n",
              "  <thead>\n",
              "    <tr style=\"text-align: right;\">\n",
              "      <th></th>\n",
              "      <th>james</th>\n",
              "      <th>abby</th>\n",
              "      <th>carlitos</th>\n",
              "      <th>david</th>\n",
              "      <th>bella</th>\n",
              "      <th>goropius</th>\n",
              "    </tr>\n",
              "  </thead>\n",
              "  <tbody>\n",
              "    <tr>\n",
              "      <th>alpha</th>\n",
              "      <td>0.245986</td>\n",
              "      <td>0.626783</td>\n",
              "      <td>0.377250</td>\n",
              "      <td>0.063457</td>\n",
              "      <td>0.373199</td>\n",
              "      <td>0.074116</td>\n",
              "    </tr>\n",
              "    <tr>\n",
              "      <th>epsilon</th>\n",
              "      <td>0.044442</td>\n",
              "      <td>20.000000</td>\n",
              "      <td>0.754543</td>\n",
              "      <td>NaN</td>\n",
              "      <td>NaN</td>\n",
              "      <td>0.987940</td>\n",
              "    </tr>\n",
              "    <tr>\n",
              "      <th>pi</th>\n",
              "      <td>0.198074</td>\n",
              "      <td>20.000000</td>\n",
              "      <td>0.383704</td>\n",
              "      <td>NaN</td>\n",
              "      <td>NaN</td>\n",
              "      <td>0.864242</td>\n",
              "    </tr>\n",
              "    <tr>\n",
              "      <th>sigma</th>\n",
              "      <td>0.537240</td>\n",
              "      <td>20.000000</td>\n",
              "      <td>0.815957</td>\n",
              "      <td>NaN</td>\n",
              "      <td>NaN</td>\n",
              "      <td>0.066831</td>\n",
              "    </tr>\n",
              "    <tr>\n",
              "      <th>delta</th>\n",
              "      <td>0.015341</td>\n",
              "      <td>0.546204</td>\n",
              "      <td>0.092189</td>\n",
              "      <td>0.171704</td>\n",
              "      <td>0.333604</td>\n",
              "      <td>0.116719</td>\n",
              "    </tr>\n",
              "    <tr>\n",
              "      <th>tau</th>\n",
              "      <td>0.562587</td>\n",
              "      <td>0.410931</td>\n",
              "      <td>0.285842</td>\n",
              "      <td>0.398147</td>\n",
              "      <td>0.427212</td>\n",
              "      <td>0.885826</td>\n",
              "    </tr>\n",
              "  </tbody>\n",
              "</table>\n",
              "</div>"
            ],
            "text/plain": [
              "            james       abby  carlitos     david     bella  goropius\n",
              "alpha    0.245986   0.626783  0.377250  0.063457  0.373199  0.074116\n",
              "epsilon  0.044442  20.000000  0.754543       NaN       NaN  0.987940\n",
              "pi       0.198074  20.000000  0.383704       NaN       NaN  0.864242\n",
              "sigma    0.537240  20.000000  0.815957       NaN       NaN  0.066831\n",
              "delta    0.015341   0.546204  0.092189  0.171704  0.333604  0.116719\n",
              "tau      0.562587   0.410931  0.285842  0.398147  0.427212  0.885826"
            ]
          },
          "metadata": {
            "tags": []
          },
          "execution_count": 116
        }
      ]
    },
    {
      "cell_type": "code",
      "metadata": {
        "id": "IBh2MPyMZ8Mm",
        "colab_type": "code",
        "colab": {}
      },
      "source": [
        ""
      ],
      "execution_count": 0,
      "outputs": []
    },
    {
      "cell_type": "code",
      "metadata": {
        "id": "aAf6XKfbXvYB",
        "colab_type": "code",
        "colab": {
          "base_uri": "https://localhost:8080/",
          "height": 235
        },
        "outputId": "f661ed80-898e-4866-dd40-8dc509888d6f"
      },
      "source": [
        "filled2"
      ],
      "execution_count": 107,
      "outputs": [
        {
          "output_type": "execute_result",
          "data": {
            "text/html": [
              "<div>\n",
              "<style scoped>\n",
              "    .dataframe tbody tr th:only-of-type {\n",
              "        vertical-align: middle;\n",
              "    }\n",
              "\n",
              "    .dataframe tbody tr th {\n",
              "        vertical-align: top;\n",
              "    }\n",
              "\n",
              "    .dataframe thead th {\n",
              "        text-align: right;\n",
              "    }\n",
              "</style>\n",
              "<table border=\"1\" class=\"dataframe\">\n",
              "  <thead>\n",
              "    <tr style=\"text-align: right;\">\n",
              "      <th></th>\n",
              "      <th>james</th>\n",
              "      <th>abby</th>\n",
              "      <th>carlitos</th>\n",
              "      <th>david</th>\n",
              "      <th>bella</th>\n",
              "      <th>goropius</th>\n",
              "    </tr>\n",
              "  </thead>\n",
              "  <tbody>\n",
              "    <tr>\n",
              "      <th>alpha</th>\n",
              "      <td>0.245986</td>\n",
              "      <td>0.626783</td>\n",
              "      <td>0.377250</td>\n",
              "      <td>0.063457</td>\n",
              "      <td>0.373199</td>\n",
              "      <td>0.074116</td>\n",
              "    </tr>\n",
              "    <tr>\n",
              "      <th>epsilon</th>\n",
              "      <td>0.044442</td>\n",
              "      <td>NaN</td>\n",
              "      <td>0.754543</td>\n",
              "      <td>NaN</td>\n",
              "      <td>NaN</td>\n",
              "      <td>0.987940</td>\n",
              "    </tr>\n",
              "    <tr>\n",
              "      <th>pi</th>\n",
              "      <td>0.198074</td>\n",
              "      <td>NaN</td>\n",
              "      <td>0.383704</td>\n",
              "      <td>NaN</td>\n",
              "      <td>NaN</td>\n",
              "      <td>0.864242</td>\n",
              "    </tr>\n",
              "    <tr>\n",
              "      <th>sigma</th>\n",
              "      <td>0.537240</td>\n",
              "      <td>NaN</td>\n",
              "      <td>0.815957</td>\n",
              "      <td>NaN</td>\n",
              "      <td>NaN</td>\n",
              "      <td>0.066831</td>\n",
              "    </tr>\n",
              "    <tr>\n",
              "      <th>delta</th>\n",
              "      <td>0.015341</td>\n",
              "      <td>0.546204</td>\n",
              "      <td>0.092189</td>\n",
              "      <td>0.171704</td>\n",
              "      <td>0.333604</td>\n",
              "      <td>0.116719</td>\n",
              "    </tr>\n",
              "    <tr>\n",
              "      <th>tau</th>\n",
              "      <td>0.562587</td>\n",
              "      <td>0.410931</td>\n",
              "      <td>0.285842</td>\n",
              "      <td>0.398147</td>\n",
              "      <td>0.427212</td>\n",
              "      <td>0.885826</td>\n",
              "    </tr>\n",
              "  </tbody>\n",
              "</table>\n",
              "</div>"
            ],
            "text/plain": [
              "            james      abby  carlitos     david     bella  goropius\n",
              "alpha    0.245986  0.626783  0.377250  0.063457  0.373199  0.074116\n",
              "epsilon  0.044442       NaN  0.754543       NaN       NaN  0.987940\n",
              "pi       0.198074       NaN  0.383704       NaN       NaN  0.864242\n",
              "sigma    0.537240       NaN  0.815957       NaN       NaN  0.066831\n",
              "delta    0.015341  0.546204  0.092189  0.171704  0.333604  0.116719\n",
              "tau      0.562587  0.410931  0.285842  0.398147  0.427212  0.885826"
            ]
          },
          "metadata": {
            "tags": []
          },
          "execution_count": 107
        }
      ]
    },
    {
      "cell_type": "code",
      "metadata": {
        "id": "ASr_U3zYZ8x_",
        "colab_type": "code",
        "colab": {}
      },
      "source": [
        "filled3=DF_obj.fillna(method=\"ffill\")"
      ],
      "execution_count": 0,
      "outputs": []
    },
    {
      "cell_type": "code",
      "metadata": {
        "id": "3LhMLxnjaDJi",
        "colab_type": "code",
        "colab": {
          "base_uri": "https://localhost:8080/",
          "height": 235
        },
        "outputId": "e0b80a62-e6db-421c-d719-5336a2c95baf"
      },
      "source": [
        "filled3"
      ],
      "execution_count": 118,
      "outputs": [
        {
          "output_type": "execute_result",
          "data": {
            "text/html": [
              "<div>\n",
              "<style scoped>\n",
              "    .dataframe tbody tr th:only-of-type {\n",
              "        vertical-align: middle;\n",
              "    }\n",
              "\n",
              "    .dataframe tbody tr th {\n",
              "        vertical-align: top;\n",
              "    }\n",
              "\n",
              "    .dataframe thead th {\n",
              "        text-align: right;\n",
              "    }\n",
              "</style>\n",
              "<table border=\"1\" class=\"dataframe\">\n",
              "  <thead>\n",
              "    <tr style=\"text-align: right;\">\n",
              "      <th></th>\n",
              "      <th>james</th>\n",
              "      <th>abby</th>\n",
              "      <th>carlitos</th>\n",
              "      <th>david</th>\n",
              "      <th>bella</th>\n",
              "      <th>goropius</th>\n",
              "    </tr>\n",
              "  </thead>\n",
              "  <tbody>\n",
              "    <tr>\n",
              "      <th>alpha</th>\n",
              "      <td>0.245986</td>\n",
              "      <td>0.626783</td>\n",
              "      <td>0.377250</td>\n",
              "      <td>0.063457</td>\n",
              "      <td>0.373199</td>\n",
              "      <td>0.074116</td>\n",
              "    </tr>\n",
              "    <tr>\n",
              "      <th>epsilon</th>\n",
              "      <td>0.044442</td>\n",
              "      <td>0.626783</td>\n",
              "      <td>0.754543</td>\n",
              "      <td>0.063457</td>\n",
              "      <td>0.373199</td>\n",
              "      <td>0.987940</td>\n",
              "    </tr>\n",
              "    <tr>\n",
              "      <th>pi</th>\n",
              "      <td>0.198074</td>\n",
              "      <td>0.626783</td>\n",
              "      <td>0.383704</td>\n",
              "      <td>0.063457</td>\n",
              "      <td>0.373199</td>\n",
              "      <td>0.864242</td>\n",
              "    </tr>\n",
              "    <tr>\n",
              "      <th>sigma</th>\n",
              "      <td>0.537240</td>\n",
              "      <td>0.626783</td>\n",
              "      <td>0.815957</td>\n",
              "      <td>0.063457</td>\n",
              "      <td>0.373199</td>\n",
              "      <td>0.066831</td>\n",
              "    </tr>\n",
              "    <tr>\n",
              "      <th>delta</th>\n",
              "      <td>0.015341</td>\n",
              "      <td>0.546204</td>\n",
              "      <td>0.092189</td>\n",
              "      <td>0.171704</td>\n",
              "      <td>0.333604</td>\n",
              "      <td>0.116719</td>\n",
              "    </tr>\n",
              "    <tr>\n",
              "      <th>tau</th>\n",
              "      <td>0.562587</td>\n",
              "      <td>0.410931</td>\n",
              "      <td>0.285842</td>\n",
              "      <td>0.398147</td>\n",
              "      <td>0.427212</td>\n",
              "      <td>0.885826</td>\n",
              "    </tr>\n",
              "  </tbody>\n",
              "</table>\n",
              "</div>"
            ],
            "text/plain": [
              "            james      abby  carlitos     david     bella  goropius\n",
              "alpha    0.245986  0.626783  0.377250  0.063457  0.373199  0.074116\n",
              "epsilon  0.044442  0.626783  0.754543  0.063457  0.373199  0.987940\n",
              "pi       0.198074  0.626783  0.383704  0.063457  0.373199  0.864242\n",
              "sigma    0.537240  0.626783  0.815957  0.063457  0.373199  0.066831\n",
              "delta    0.015341  0.546204  0.092189  0.171704  0.333604  0.116719\n",
              "tau      0.562587  0.410931  0.285842  0.398147  0.427212  0.885826"
            ]
          },
          "metadata": {
            "tags": []
          },
          "execution_count": 118
        }
      ]
    },
    {
      "cell_type": "code",
      "metadata": {
        "id": "5YkiGMxsahMs",
        "colab_type": "code",
        "colab": {}
      },
      "source": [
        "DF_obj=DataFrame(np.random.rand(36).reshape(6,6),index=[\"alpha\",\"epsilon\",\"pi\",\"sigma\",\"delta\",\"tau\"],\n",
        "                columns=[\"james\",\"abby\",\"carlitos\",\"david\",\"bella\",\"goropius\"])"
      ],
      "execution_count": 0,
      "outputs": []
    },
    {
      "cell_type": "code",
      "metadata": {
        "id": "ZD_zg1KXal6j",
        "colab_type": "code",
        "colab": {}
      },
      "source": [
        "DF_obj.loc[\"epsilon\":\"delta\",\"carlitos\":\"bella\"]=missing"
      ],
      "execution_count": 0,
      "outputs": []
    },
    {
      "cell_type": "code",
      "metadata": {
        "id": "azSFB7QNavGO",
        "colab_type": "code",
        "colab": {
          "base_uri": "https://localhost:8080/",
          "height": 235
        },
        "outputId": "540ae6b1-df7c-4ebf-bed0-b7d906184c3f"
      },
      "source": [
        "DF_obj"
      ],
      "execution_count": 121,
      "outputs": [
        {
          "output_type": "execute_result",
          "data": {
            "text/html": [
              "<div>\n",
              "<style scoped>\n",
              "    .dataframe tbody tr th:only-of-type {\n",
              "        vertical-align: middle;\n",
              "    }\n",
              "\n",
              "    .dataframe tbody tr th {\n",
              "        vertical-align: top;\n",
              "    }\n",
              "\n",
              "    .dataframe thead th {\n",
              "        text-align: right;\n",
              "    }\n",
              "</style>\n",
              "<table border=\"1\" class=\"dataframe\">\n",
              "  <thead>\n",
              "    <tr style=\"text-align: right;\">\n",
              "      <th></th>\n",
              "      <th>james</th>\n",
              "      <th>abby</th>\n",
              "      <th>carlitos</th>\n",
              "      <th>david</th>\n",
              "      <th>bella</th>\n",
              "      <th>goropius</th>\n",
              "    </tr>\n",
              "  </thead>\n",
              "  <tbody>\n",
              "    <tr>\n",
              "      <th>alpha</th>\n",
              "      <td>0.437051</td>\n",
              "      <td>0.617060</td>\n",
              "      <td>0.055321</td>\n",
              "      <td>0.928544</td>\n",
              "      <td>0.757259</td>\n",
              "      <td>0.975881</td>\n",
              "    </tr>\n",
              "    <tr>\n",
              "      <th>epsilon</th>\n",
              "      <td>0.251659</td>\n",
              "      <td>0.968149</td>\n",
              "      <td>NaN</td>\n",
              "      <td>NaN</td>\n",
              "      <td>NaN</td>\n",
              "      <td>0.605039</td>\n",
              "    </tr>\n",
              "    <tr>\n",
              "      <th>pi</th>\n",
              "      <td>0.059525</td>\n",
              "      <td>0.362887</td>\n",
              "      <td>NaN</td>\n",
              "      <td>NaN</td>\n",
              "      <td>NaN</td>\n",
              "      <td>0.451459</td>\n",
              "    </tr>\n",
              "    <tr>\n",
              "      <th>sigma</th>\n",
              "      <td>0.863190</td>\n",
              "      <td>0.529924</td>\n",
              "      <td>NaN</td>\n",
              "      <td>NaN</td>\n",
              "      <td>NaN</td>\n",
              "      <td>0.260322</td>\n",
              "    </tr>\n",
              "    <tr>\n",
              "      <th>delta</th>\n",
              "      <td>0.424988</td>\n",
              "      <td>0.892367</td>\n",
              "      <td>NaN</td>\n",
              "      <td>NaN</td>\n",
              "      <td>NaN</td>\n",
              "      <td>0.162011</td>\n",
              "    </tr>\n",
              "    <tr>\n",
              "      <th>tau</th>\n",
              "      <td>0.948836</td>\n",
              "      <td>0.470992</td>\n",
              "      <td>0.819737</td>\n",
              "      <td>0.070855</td>\n",
              "      <td>0.106414</td>\n",
              "      <td>0.507698</td>\n",
              "    </tr>\n",
              "  </tbody>\n",
              "</table>\n",
              "</div>"
            ],
            "text/plain": [
              "            james      abby  carlitos     david     bella  goropius\n",
              "alpha    0.437051  0.617060  0.055321  0.928544  0.757259  0.975881\n",
              "epsilon  0.251659  0.968149       NaN       NaN       NaN  0.605039\n",
              "pi       0.059525  0.362887       NaN       NaN       NaN  0.451459\n",
              "sigma    0.863190  0.529924       NaN       NaN       NaN  0.260322\n",
              "delta    0.424988  0.892367       NaN       NaN       NaN  0.162011\n",
              "tau      0.948836  0.470992  0.819737  0.070855  0.106414  0.507698"
            ]
          },
          "metadata": {
            "tags": []
          },
          "execution_count": 121
        }
      ]
    },
    {
      "cell_type": "code",
      "metadata": {
        "id": "asihdSSAa7S4",
        "colab_type": "code",
        "colab": {
          "base_uri": "https://localhost:8080/",
          "height": 136
        },
        "outputId": "14f3ed51-092f-44a5-be65-59bde101b3e5"
      },
      "source": [
        "DF_obj.isnull().sum()"
      ],
      "execution_count": 122,
      "outputs": [
        {
          "output_type": "execute_result",
          "data": {
            "text/plain": [
              "james       0\n",
              "abby        0\n",
              "carlitos    4\n",
              "david       4\n",
              "bella       4\n",
              "goropius    0\n",
              "dtype: int64"
            ]
          },
          "metadata": {
            "tags": []
          },
          "execution_count": 122
        }
      ]
    },
    {
      "cell_type": "code",
      "metadata": {
        "id": "8BzRHTpibJbG",
        "colab_type": "code",
        "colab": {}
      },
      "source": [
        "DF_no = DF_obj.dropna(axis=1)"
      ],
      "execution_count": 0,
      "outputs": []
    },
    {
      "cell_type": "code",
      "metadata": {
        "id": "0VtGvqOLbNmk",
        "colab_type": "code",
        "colab": {
          "base_uri": "https://localhost:8080/",
          "height": 235
        },
        "outputId": "f4adaafa-a428-4380-bf78-fab59322a77e"
      },
      "source": [
        "DF_no"
      ],
      "execution_count": 133,
      "outputs": [
        {
          "output_type": "execute_result",
          "data": {
            "text/html": [
              "<div>\n",
              "<style scoped>\n",
              "    .dataframe tbody tr th:only-of-type {\n",
              "        vertical-align: middle;\n",
              "    }\n",
              "\n",
              "    .dataframe tbody tr th {\n",
              "        vertical-align: top;\n",
              "    }\n",
              "\n",
              "    .dataframe thead th {\n",
              "        text-align: right;\n",
              "    }\n",
              "</style>\n",
              "<table border=\"1\" class=\"dataframe\">\n",
              "  <thead>\n",
              "    <tr style=\"text-align: right;\">\n",
              "      <th></th>\n",
              "      <th>james</th>\n",
              "      <th>abby</th>\n",
              "      <th>goropius</th>\n",
              "    </tr>\n",
              "  </thead>\n",
              "  <tbody>\n",
              "    <tr>\n",
              "      <th>alpha</th>\n",
              "      <td>0.437051</td>\n",
              "      <td>0.617060</td>\n",
              "      <td>0.975881</td>\n",
              "    </tr>\n",
              "    <tr>\n",
              "      <th>epsilon</th>\n",
              "      <td>0.251659</td>\n",
              "      <td>0.968149</td>\n",
              "      <td>0.605039</td>\n",
              "    </tr>\n",
              "    <tr>\n",
              "      <th>pi</th>\n",
              "      <td>0.059525</td>\n",
              "      <td>0.362887</td>\n",
              "      <td>0.451459</td>\n",
              "    </tr>\n",
              "    <tr>\n",
              "      <th>sigma</th>\n",
              "      <td>0.863190</td>\n",
              "      <td>0.529924</td>\n",
              "      <td>0.260322</td>\n",
              "    </tr>\n",
              "    <tr>\n",
              "      <th>delta</th>\n",
              "      <td>0.424988</td>\n",
              "      <td>0.892367</td>\n",
              "      <td>0.162011</td>\n",
              "    </tr>\n",
              "    <tr>\n",
              "      <th>tau</th>\n",
              "      <td>0.948836</td>\n",
              "      <td>0.470992</td>\n",
              "      <td>0.507698</td>\n",
              "    </tr>\n",
              "  </tbody>\n",
              "</table>\n",
              "</div>"
            ],
            "text/plain": [
              "            james      abby  goropius\n",
              "alpha    0.437051  0.617060  0.975881\n",
              "epsilon  0.251659  0.968149  0.605039\n",
              "pi       0.059525  0.362887  0.451459\n",
              "sigma    0.863190  0.529924  0.260322\n",
              "delta    0.424988  0.892367  0.162011\n",
              "tau      0.948836  0.470992  0.507698"
            ]
          },
          "metadata": {
            "tags": []
          },
          "execution_count": 133
        }
      ]
    },
    {
      "cell_type": "code",
      "metadata": {
        "id": "MhKcyU7nb50R",
        "colab_type": "code",
        "colab": {
          "base_uri": "https://localhost:8080/",
          "height": 235
        },
        "outputId": "a534c889-de46-4c6d-f520-04e3219d67d4"
      },
      "source": [
        "DF_no = DF_obj.dropna(how=\"all\")\n",
        "DF_no"
      ],
      "execution_count": 134,
      "outputs": [
        {
          "output_type": "execute_result",
          "data": {
            "text/html": [
              "<div>\n",
              "<style scoped>\n",
              "    .dataframe tbody tr th:only-of-type {\n",
              "        vertical-align: middle;\n",
              "    }\n",
              "\n",
              "    .dataframe tbody tr th {\n",
              "        vertical-align: top;\n",
              "    }\n",
              "\n",
              "    .dataframe thead th {\n",
              "        text-align: right;\n",
              "    }\n",
              "</style>\n",
              "<table border=\"1\" class=\"dataframe\">\n",
              "  <thead>\n",
              "    <tr style=\"text-align: right;\">\n",
              "      <th></th>\n",
              "      <th>james</th>\n",
              "      <th>abby</th>\n",
              "      <th>carlitos</th>\n",
              "      <th>david</th>\n",
              "      <th>bella</th>\n",
              "      <th>goropius</th>\n",
              "    </tr>\n",
              "  </thead>\n",
              "  <tbody>\n",
              "    <tr>\n",
              "      <th>alpha</th>\n",
              "      <td>0.437051</td>\n",
              "      <td>0.617060</td>\n",
              "      <td>0.055321</td>\n",
              "      <td>0.928544</td>\n",
              "      <td>0.757259</td>\n",
              "      <td>0.975881</td>\n",
              "    </tr>\n",
              "    <tr>\n",
              "      <th>epsilon</th>\n",
              "      <td>0.251659</td>\n",
              "      <td>0.968149</td>\n",
              "      <td>NaN</td>\n",
              "      <td>NaN</td>\n",
              "      <td>NaN</td>\n",
              "      <td>0.605039</td>\n",
              "    </tr>\n",
              "    <tr>\n",
              "      <th>pi</th>\n",
              "      <td>0.059525</td>\n",
              "      <td>0.362887</td>\n",
              "      <td>NaN</td>\n",
              "      <td>NaN</td>\n",
              "      <td>NaN</td>\n",
              "      <td>0.451459</td>\n",
              "    </tr>\n",
              "    <tr>\n",
              "      <th>sigma</th>\n",
              "      <td>0.863190</td>\n",
              "      <td>0.529924</td>\n",
              "      <td>NaN</td>\n",
              "      <td>NaN</td>\n",
              "      <td>NaN</td>\n",
              "      <td>0.260322</td>\n",
              "    </tr>\n",
              "    <tr>\n",
              "      <th>delta</th>\n",
              "      <td>0.424988</td>\n",
              "      <td>0.892367</td>\n",
              "      <td>NaN</td>\n",
              "      <td>NaN</td>\n",
              "      <td>NaN</td>\n",
              "      <td>0.162011</td>\n",
              "    </tr>\n",
              "    <tr>\n",
              "      <th>tau</th>\n",
              "      <td>0.948836</td>\n",
              "      <td>0.470992</td>\n",
              "      <td>0.819737</td>\n",
              "      <td>0.070855</td>\n",
              "      <td>0.106414</td>\n",
              "      <td>0.507698</td>\n",
              "    </tr>\n",
              "  </tbody>\n",
              "</table>\n",
              "</div>"
            ],
            "text/plain": [
              "            james      abby  carlitos     david     bella  goropius\n",
              "alpha    0.437051  0.617060  0.055321  0.928544  0.757259  0.975881\n",
              "epsilon  0.251659  0.968149       NaN       NaN       NaN  0.605039\n",
              "pi       0.059525  0.362887       NaN       NaN       NaN  0.451459\n",
              "sigma    0.863190  0.529924       NaN       NaN       NaN  0.260322\n",
              "delta    0.424988  0.892367       NaN       NaN       NaN  0.162011\n",
              "tau      0.948836  0.470992  0.819737  0.070855  0.106414  0.507698"
            ]
          },
          "metadata": {
            "tags": []
          },
          "execution_count": 134
        }
      ]
    },
    {
      "cell_type": "code",
      "metadata": {
        "id": "JShl_juicARW",
        "colab_type": "code",
        "colab": {}
      },
      "source": [
        "DF_obj.loc[\"alpha\":\"tau\",\"james\"]=missing"
      ],
      "execution_count": 0,
      "outputs": []
    },
    {
      "cell_type": "code",
      "metadata": {
        "id": "XaPa8rBFcPcK",
        "colab_type": "code",
        "colab": {
          "base_uri": "https://localhost:8080/",
          "height": 235
        },
        "outputId": "24d52ce3-c3da-4ce0-dc50-f61ddb37de00"
      },
      "source": [
        "DF_obj"
      ],
      "execution_count": 138,
      "outputs": [
        {
          "output_type": "execute_result",
          "data": {
            "text/html": [
              "<div>\n",
              "<style scoped>\n",
              "    .dataframe tbody tr th:only-of-type {\n",
              "        vertical-align: middle;\n",
              "    }\n",
              "\n",
              "    .dataframe tbody tr th {\n",
              "        vertical-align: top;\n",
              "    }\n",
              "\n",
              "    .dataframe thead th {\n",
              "        text-align: right;\n",
              "    }\n",
              "</style>\n",
              "<table border=\"1\" class=\"dataframe\">\n",
              "  <thead>\n",
              "    <tr style=\"text-align: right;\">\n",
              "      <th></th>\n",
              "      <th>james</th>\n",
              "      <th>abby</th>\n",
              "      <th>carlitos</th>\n",
              "      <th>david</th>\n",
              "      <th>bella</th>\n",
              "      <th>goropius</th>\n",
              "    </tr>\n",
              "  </thead>\n",
              "  <tbody>\n",
              "    <tr>\n",
              "      <th>alpha</th>\n",
              "      <td>NaN</td>\n",
              "      <td>0.617060</td>\n",
              "      <td>0.055321</td>\n",
              "      <td>0.928544</td>\n",
              "      <td>0.757259</td>\n",
              "      <td>0.975881</td>\n",
              "    </tr>\n",
              "    <tr>\n",
              "      <th>epsilon</th>\n",
              "      <td>NaN</td>\n",
              "      <td>0.968149</td>\n",
              "      <td>NaN</td>\n",
              "      <td>NaN</td>\n",
              "      <td>NaN</td>\n",
              "      <td>0.605039</td>\n",
              "    </tr>\n",
              "    <tr>\n",
              "      <th>pi</th>\n",
              "      <td>NaN</td>\n",
              "      <td>0.362887</td>\n",
              "      <td>NaN</td>\n",
              "      <td>NaN</td>\n",
              "      <td>NaN</td>\n",
              "      <td>0.451459</td>\n",
              "    </tr>\n",
              "    <tr>\n",
              "      <th>sigma</th>\n",
              "      <td>NaN</td>\n",
              "      <td>0.529924</td>\n",
              "      <td>NaN</td>\n",
              "      <td>NaN</td>\n",
              "      <td>NaN</td>\n",
              "      <td>0.260322</td>\n",
              "    </tr>\n",
              "    <tr>\n",
              "      <th>delta</th>\n",
              "      <td>NaN</td>\n",
              "      <td>0.892367</td>\n",
              "      <td>NaN</td>\n",
              "      <td>NaN</td>\n",
              "      <td>NaN</td>\n",
              "      <td>0.162011</td>\n",
              "    </tr>\n",
              "    <tr>\n",
              "      <th>tau</th>\n",
              "      <td>NaN</td>\n",
              "      <td>0.470992</td>\n",
              "      <td>0.819737</td>\n",
              "      <td>0.070855</td>\n",
              "      <td>0.106414</td>\n",
              "      <td>0.507698</td>\n",
              "    </tr>\n",
              "  </tbody>\n",
              "</table>\n",
              "</div>"
            ],
            "text/plain": [
              "         james      abby  carlitos     david     bella  goropius\n",
              "alpha      NaN  0.617060  0.055321  0.928544  0.757259  0.975881\n",
              "epsilon    NaN  0.968149       NaN       NaN       NaN  0.605039\n",
              "pi         NaN  0.362887       NaN       NaN       NaN  0.451459\n",
              "sigma      NaN  0.529924       NaN       NaN       NaN  0.260322\n",
              "delta      NaN  0.892367       NaN       NaN       NaN  0.162011\n",
              "tau        NaN  0.470992  0.819737  0.070855  0.106414  0.507698"
            ]
          },
          "metadata": {
            "tags": []
          },
          "execution_count": 138
        }
      ]
    },
    {
      "cell_type": "code",
      "metadata": {
        "id": "TD4ejnYPcS6Q",
        "colab_type": "code",
        "colab": {
          "base_uri": "https://localhost:8080/",
          "height": 235
        },
        "outputId": "ff204590-e879-493f-b624-0a9427cda71f"
      },
      "source": [
        "DF_no = DF_obj.dropna(how=\"all\",axis=1)\n",
        "DF_no"
      ],
      "execution_count": 140,
      "outputs": [
        {
          "output_type": "execute_result",
          "data": {
            "text/html": [
              "<div>\n",
              "<style scoped>\n",
              "    .dataframe tbody tr th:only-of-type {\n",
              "        vertical-align: middle;\n",
              "    }\n",
              "\n",
              "    .dataframe tbody tr th {\n",
              "        vertical-align: top;\n",
              "    }\n",
              "\n",
              "    .dataframe thead th {\n",
              "        text-align: right;\n",
              "    }\n",
              "</style>\n",
              "<table border=\"1\" class=\"dataframe\">\n",
              "  <thead>\n",
              "    <tr style=\"text-align: right;\">\n",
              "      <th></th>\n",
              "      <th>abby</th>\n",
              "      <th>carlitos</th>\n",
              "      <th>david</th>\n",
              "      <th>bella</th>\n",
              "      <th>goropius</th>\n",
              "    </tr>\n",
              "  </thead>\n",
              "  <tbody>\n",
              "    <tr>\n",
              "      <th>alpha</th>\n",
              "      <td>0.617060</td>\n",
              "      <td>0.055321</td>\n",
              "      <td>0.928544</td>\n",
              "      <td>0.757259</td>\n",
              "      <td>0.975881</td>\n",
              "    </tr>\n",
              "    <tr>\n",
              "      <th>epsilon</th>\n",
              "      <td>0.968149</td>\n",
              "      <td>NaN</td>\n",
              "      <td>NaN</td>\n",
              "      <td>NaN</td>\n",
              "      <td>0.605039</td>\n",
              "    </tr>\n",
              "    <tr>\n",
              "      <th>pi</th>\n",
              "      <td>0.362887</td>\n",
              "      <td>NaN</td>\n",
              "      <td>NaN</td>\n",
              "      <td>NaN</td>\n",
              "      <td>0.451459</td>\n",
              "    </tr>\n",
              "    <tr>\n",
              "      <th>sigma</th>\n",
              "      <td>0.529924</td>\n",
              "      <td>NaN</td>\n",
              "      <td>NaN</td>\n",
              "      <td>NaN</td>\n",
              "      <td>0.260322</td>\n",
              "    </tr>\n",
              "    <tr>\n",
              "      <th>delta</th>\n",
              "      <td>0.892367</td>\n",
              "      <td>NaN</td>\n",
              "      <td>NaN</td>\n",
              "      <td>NaN</td>\n",
              "      <td>0.162011</td>\n",
              "    </tr>\n",
              "    <tr>\n",
              "      <th>tau</th>\n",
              "      <td>0.470992</td>\n",
              "      <td>0.819737</td>\n",
              "      <td>0.070855</td>\n",
              "      <td>0.106414</td>\n",
              "      <td>0.507698</td>\n",
              "    </tr>\n",
              "  </tbody>\n",
              "</table>\n",
              "</div>"
            ],
            "text/plain": [
              "             abby  carlitos     david     bella  goropius\n",
              "alpha    0.617060  0.055321  0.928544  0.757259  0.975881\n",
              "epsilon  0.968149       NaN       NaN       NaN  0.605039\n",
              "pi       0.362887       NaN       NaN       NaN  0.451459\n",
              "sigma    0.529924       NaN       NaN       NaN  0.260322\n",
              "delta    0.892367       NaN       NaN       NaN  0.162011\n",
              "tau      0.470992  0.819737  0.070855  0.106414  0.507698"
            ]
          },
          "metadata": {
            "tags": []
          },
          "execution_count": 140
        }
      ]
    }
  ]
}